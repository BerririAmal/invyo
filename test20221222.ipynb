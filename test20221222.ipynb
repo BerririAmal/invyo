{
 "cells": [
  {
   "cell_type": "code",
   "execution_count": 1,
   "id": "fcc625ab-f4eb-4c49-92bd-227ab536e3ac",
   "metadata": {},
   "outputs": [
    {
     "name": "stdout",
     "output_type": "stream",
     "text": [
      "HiHi\n"
     ]
    }
   ],
   "source": [
    "# Create a new and clear dataset\n",
    "# The dataset contains only french companies as it is specified in the test statement (Ligne 5 in bold)\n",
    "# In the new dataset, country_name and city_name are converted to real names that are exploited by the API provided in the test statement (used in the following cells)\n",
    "\n",
    "# !pip install geopy\n",
    "\n",
    "from geopy.geocoders import Nominatim\n",
    "from geopy.distance import geodesic\n",
    "\n",
    "from geopy.exc import GeocoderTimedOut\n",
    "\n",
    "import csv\n",
    "import json\n",
    "import pandas as pd\n",
    "\n",
    "print(\"HiHi\")\n",
    "\n",
    "# Load dependencies as dataframes\n",
    "dfLocations = pd.read_csv('locations.csv', sep=';')\n",
    "dfCountry = pd.read_json('country.json')\n",
    "dfCity = pd.read_json('city.json')\n",
    "\n",
    "# Replace City and Country codes based on city.json and country.json files\n",
    "dfLocations.insert(3, \"city\", \"_\" , True)\n",
    "dfLocations['city'] = dfLocations['city_id'].map(dfCity.set_index('id')['name'])\n",
    "dfLocations.insert(2, \"country\", \"_\" , True)\n",
    "dfLocations['country'] = dfLocations['country_id'].map(dfCountry.set_index('id')['name'])\n",
    "\n",
    "# Filter to extract only headquarters located in France\n",
    "IdFrance = dfCountry[(dfCountry['name'] == 'France')].values[0].tolist()[0]\n",
    "filterinfDataframe = dfLocations[(dfLocations['is_headquarter'] == 1) & (dfLocations['country_id'] == IdFrance)]\n",
    "\n",
    "# Filter to remove NaN addresses\n",
    "filterinfDataframe1 = filterinfDataframe.dropna()\n",
    "filterinfDataframe1.to_csv('Dataframe_result.csv', index=False, header=True)\n",
    "\n",
    "# Function to extract longitude and latitude from an address\n",
    "def longLatAddress(address):\n",
    "    geolocator = Nominatim(user_agent=\"https://adresse.data.gouv.fr/api-doc/adresse\")\n",
    "    companyLocation = geolocator.geocode(address)\n",
    "\n",
    "    if companyLocation is not None:\n",
    "        companyLocationAddress = companyLocation.address\n",
    "        companyLocationLatitude = companyLocation.latitude\n",
    "        companyLocationlongitude = companyLocation.longitude\n",
    "    else:\n",
    "        companyLocationLatitude = None\n",
    "        companyLocationlongitude = None\n",
    "    return(companyLocationLatitude, companyLocationlongitude)\n",
    "\n",
    "# Function to measure distance between a headquarter and its warehouses\n",
    "def distanceLocations(headquarter, warehouse):\n",
    "    distance = geodesic(headquarter, warehouse).kilometers\n",
    "    if distance < 20:\n",
    "        clas = \"1\"\n",
    "    elif distance < 100 and distance > 20:\n",
    "        clas = \"2\"\n",
    "    elif distance > 100:\n",
    "        clas = \"3\"\n",
    "    return clas\n",
    "\n",
    "# Function to extract headquarters from the new dataset clearLocations.csv\n",
    "def extractHeadquarters(addressWarehouse):\n",
    "    # Open the created dataset clearLocations.csv\n",
    "    with open('Dataframe_result.csv') as csv_clearLocations:\n",
    "        csvClearLocations = csv.reader(csv_clearLocations, delimiter=',')\n",
    "        clearLocations = list(csvClearLocations)\n",
    "\n",
    "    askedFile = open('askedFile.csv', 'w', encoding='utf-8')\n",
    "    heading = \"company_id,country_id,country,city_id,city,address,is_headquarter,class\\n\"\n",
    "    askedFile.write(heading)\n",
    "    warehouseLatitude, warehouselongitude = longLatAddress(addressWarehouse)\n",
    "    lonLatWarehouse = (warehouseLatitude, warehouselongitude)\n",
    "    for i in range(1, len(clearLocations)):\n",
    "        headquarterLatitude, headquarterlongitude = longLatAddress(clearLocations[i][5] + \" \" + clearLocations[i][4] + \" \" + clearLocations[i][2])\n",
    "        if headquarterLatitude is None and headquarterlongitude is None:\n",
    "            row = \"{},{},{},{},{},{},{},{}\\n\".format(clearLocations[i][0], clearLocations[i][1], clearLocations[i][2], clearLocations[i][3], clearLocations[i][4], clearLocations[i][5], clearLocations[i][6], \"AddressIncorrect\")\n",
    "            askedFile.write(row)\n",
    "        else:\n",
    "            lonLatHeadquarter = (headquarterLatitude, headquarterlongitude)\n",
    "            clas = distanceLocations(lonLatHeadquarter, lonLatWarehouse)\n",
    "            row = \"{},{},{},{},{},{},{},{}\\n\".format(clearLocations[i][0], clearLocations[i][1], clearLocations[i][2], clearLocations[i][3], clearLocations[i][4], clearLocations[i][5], clearLocations[i][6], clas)\n",
    "            askedFile.write(row)\n",
    "            askedFile.flush()"
   ]
  },
  {
   "cell_type": "code",
   "execution_count": 2,
   "id": "03dbbf8c-1841-4fd6-8bcf-6dd13bbd1628",
   "metadata": {},
   "outputs": [],
   "source": [
    "# addressWarehouse = \"16, Place de l'iris, Courbevoie, France\"\n",
    "\n",
    "addressWarehouse = \"23, Rue des Jeûneurs, Paris, France\"\n",
    "\n",
    "extractHeadquarters(addressWarehouse)"
   ]
  },
  {
   "cell_type": "code",
   "execution_count": null,
   "id": "188ec058-c8df-4fc2-a114-b8b6d1245ec9",
   "metadata": {},
   "outputs": [],
   "source": [
    "!pip install -r requirements.txt"
   ]
  }
 ],
 "metadata": {
  "kernelspec": {
   "display_name": "Python 3 (ipykernel)",
   "language": "python",
   "name": "python3"
  },
  "language_info": {
   "codemirror_mode": {
    "name": "ipython",
    "version": 3
   },
   "file_extension": ".py",
   "mimetype": "text/x-python",
   "name": "python",
   "nbconvert_exporter": "python",
   "pygments_lexer": "ipython3",
   "version": "3.7.7"
  },
  "vscode": {
   "interpreter": {
    "hash": "0a65b7186210c01c79731794b8f8dadcce3608d2325e3db5362c97a4cd41ed5c"
   }
  }
 },
 "nbformat": 4,
 "nbformat_minor": 5
}
